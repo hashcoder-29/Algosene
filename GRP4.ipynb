{
  "cells": [
    {
      "cell_type": "code",
      "execution_count": null,
      "metadata": {
        "id": "DPtqm7rX9OlP"
      },
      "outputs": [],
      "source": [
        "import numpy as np\n",
        "import matplotlib.pyplot as plt\n",
        "import pandas as pd"
      ]
    },
    {
      "cell_type": "code",
      "execution_count": null,
      "metadata": {
        "id": "aeMCKhj39OlQ"
      },
      "outputs": [],
      "source": [
        "df = pd.read_csv(\"D:\\\\SUMMER PROJECTS\\\\ALGOSENSE\\\\archive\\\\ALL Prices 1990-2021 mar.csv\")\n",
        "columns = list(df.columns)\n",
        "n = df.shape[1]\n",
        "m = df.shape[0]"
      ]
    },
    {
      "cell_type": "code",
      "execution_count": null,
      "metadata": {
        "id": "URcU9s_E9OlQ",
        "outputId": "4ffcfdff-5253-4b36-c69f-9d94c404ed1f"
      },
      "outputs": [
        {
          "data": {
            "text/html": [
              "<div>\n",
              "<style scoped>\n",
              "    .dataframe tbody tr th:only-of-type {\n",
              "        vertical-align: middle;\n",
              "    }\n",
              "\n",
              "    .dataframe tbody tr th {\n",
              "        vertical-align: top;\n",
              "    }\n",
              "\n",
              "    .dataframe thead th {\n",
              "        text-align: right;\n",
              "    }\n",
              "</style>\n",
              "<table border=\"1\" class=\"dataframe\">\n",
              "  <thead>\n",
              "    <tr style=\"text-align: right;\">\n",
              "      <th></th>\n",
              "      <th>month</th>\n",
              "      <th>year</th>\n",
              "      <th>town</th>\n",
              "      <th>town_dummy</th>\n",
              "      <th>flat_type</th>\n",
              "      <th>block</th>\n",
              "      <th>street_name</th>\n",
              "      <th>address</th>\n",
              "      <th>latitude</th>\n",
              "      <th>longitude</th>\n",
              "      <th>...</th>\n",
              "      <th>price_psm_yearly</th>\n",
              "      <th>Core CPI</th>\n",
              "      <th>price cpi_adj</th>\n",
              "      <th>price_psm cpi_adj</th>\n",
              "      <th>bala lease pct</th>\n",
              "      <th>price lease_adj implied</th>\n",
              "      <th>price_psm lease_adj implied</th>\n",
              "      <th>price cpi_lease_adj implied</th>\n",
              "      <th>price_psm cpi_lease_adj implied</th>\n",
              "      <th>year_gni</th>\n",
              "    </tr>\n",
              "  </thead>\n",
              "  <tbody>\n",
              "    <tr>\n",
              "      <th>0</th>\n",
              "      <td>1990-01</td>\n",
              "      <td>1990</td>\n",
              "      <td>ANG MO KIO</td>\n",
              "      <td>2</td>\n",
              "      <td>4 ROOM</td>\n",
              "      <td>308</td>\n",
              "      <td>ANG MO KIO AVE 1</td>\n",
              "      <td>308 ANG MO KIO AVE 1 SINGAPORE</td>\n",
              "      <td>1.365485</td>\n",
              "      <td>103.844025</td>\n",
              "      <td>...</td>\n",
              "      <td>10.997442</td>\n",
              "      <td>61.59</td>\n",
              "      <td>139633.05730</td>\n",
              "      <td>1517.750623</td>\n",
              "      <td>92.9</td>\n",
              "      <td>88869.752422</td>\n",
              "      <td>965.975570</td>\n",
              "      <td>144292.502700</td>\n",
              "      <td>1568.396769</td>\n",
              "      <td>22901</td>\n",
              "    </tr>\n",
              "    <tr>\n",
              "      <th>1</th>\n",
              "      <td>1990-01</td>\n",
              "      <td>1990</td>\n",
              "      <td>ANG MO KIO</td>\n",
              "      <td>2</td>\n",
              "      <td>3 ROOM</td>\n",
              "      <td>308</td>\n",
              "      <td>ANG MO KIO AVE 1</td>\n",
              "      <td>308 ANG MO KIO AVE 1 SINGAPORE</td>\n",
              "      <td>1.365485</td>\n",
              "      <td>103.844025</td>\n",
              "      <td>...</td>\n",
              "      <td>8.464849</td>\n",
              "      <td>61.59</td>\n",
              "      <td>95794.77188</td>\n",
              "      <td>1168.228925</td>\n",
              "      <td>92.9</td>\n",
              "      <td>60968.783638</td>\n",
              "      <td>743.521752</td>\n",
              "      <td>98991.368143</td>\n",
              "      <td>1207.211806</td>\n",
              "      <td>22901</td>\n",
              "    </tr>\n",
              "    <tr>\n",
              "      <th>2</th>\n",
              "      <td>1990-01</td>\n",
              "      <td>1990</td>\n",
              "      <td>ANG MO KIO</td>\n",
              "      <td>2</td>\n",
              "      <td>3 ROOM</td>\n",
              "      <td>216</td>\n",
              "      <td>ANG MO KIO AVE 1</td>\n",
              "      <td>216 ANG MO KIO AVE 1 SINGAPORE</td>\n",
              "      <td>1.366272</td>\n",
              "      <td>103.841465</td>\n",
              "      <td>...</td>\n",
              "      <td>7.606769</td>\n",
              "      <td>61.59</td>\n",
              "      <td>76635.81750</td>\n",
              "      <td>1049.805719</td>\n",
              "      <td>92.9</td>\n",
              "      <td>48775.026911</td>\n",
              "      <td>668.151054</td>\n",
              "      <td>79193.094510</td>\n",
              "      <td>1084.836911</td>\n",
              "      <td>22901</td>\n",
              "    </tr>\n",
              "    <tr>\n",
              "      <th>3</th>\n",
              "      <td>1990-01</td>\n",
              "      <td>1990</td>\n",
              "      <td>ANG MO KIO</td>\n",
              "      <td>2</td>\n",
              "      <td>3 ROOM</td>\n",
              "      <td>308</td>\n",
              "      <td>ANG MO KIO AVE 1</td>\n",
              "      <td>308 ANG MO KIO AVE 1 SINGAPORE</td>\n",
              "      <td>1.365485</td>\n",
              "      <td>103.844025</td>\n",
              "      <td>...</td>\n",
              "      <td>8.287972</td>\n",
              "      <td>61.59</td>\n",
              "      <td>76635.81750</td>\n",
              "      <td>1143.818172</td>\n",
              "      <td>92.9</td>\n",
              "      <td>48775.026911</td>\n",
              "      <td>727.985476</td>\n",
              "      <td>79193.094510</td>\n",
              "      <td>1181.986486</td>\n",
              "      <td>22901</td>\n",
              "    </tr>\n",
              "    <tr>\n",
              "      <th>4</th>\n",
              "      <td>1990-01</td>\n",
              "      <td>1990</td>\n",
              "      <td>ANG MO KIO</td>\n",
              "      <td>2</td>\n",
              "      <td>4 ROOM</td>\n",
              "      <td>211</td>\n",
              "      <td>ANG MO KIO AVE 3</td>\n",
              "      <td>211 ANG MO KIO AVE 3 SINGAPORE</td>\n",
              "      <td>1.369226</td>\n",
              "      <td>103.841652</td>\n",
              "      <td>...</td>\n",
              "      <td>11.484353</td>\n",
              "      <td>61.59</td>\n",
              "      <td>129891.21610</td>\n",
              "      <td>1603.595261</td>\n",
              "      <td>93.3</td>\n",
              "      <td>82315.112540</td>\n",
              "      <td>1016.235957</td>\n",
              "      <td>133650.125891</td>\n",
              "      <td>1650.001555</td>\n",
              "      <td>22901</td>\n",
              "    </tr>\n",
              "  </tbody>\n",
              "</table>\n",
              "<p>5 rows × 28 columns</p>\n",
              "</div>"
            ],
            "text/plain": [
              "     month  year        town  town_dummy flat_type block       street_name  \\\n",
              "0  1990-01  1990  ANG MO KIO           2    4 ROOM   308  ANG MO KIO AVE 1   \n",
              "1  1990-01  1990  ANG MO KIO           2    3 ROOM   308  ANG MO KIO AVE 1   \n",
              "2  1990-01  1990  ANG MO KIO           2    3 ROOM   216  ANG MO KIO AVE 1   \n",
              "3  1990-01  1990  ANG MO KIO           2    3 ROOM   308  ANG MO KIO AVE 1   \n",
              "4  1990-01  1990  ANG MO KIO           2    4 ROOM   211  ANG MO KIO AVE 3   \n",
              "\n",
              "                          address  latitude   longitude  ... price_psm_yearly  \\\n",
              "0  308 ANG MO KIO AVE 1 SINGAPORE  1.365485  103.844025  ...        10.997442   \n",
              "1  308 ANG MO KIO AVE 1 SINGAPORE  1.365485  103.844025  ...         8.464849   \n",
              "2  216 ANG MO KIO AVE 1 SINGAPORE  1.366272  103.841465  ...         7.606769   \n",
              "3  308 ANG MO KIO AVE 1 SINGAPORE  1.365485  103.844025  ...         8.287972   \n",
              "4  211 ANG MO KIO AVE 3 SINGAPORE  1.369226  103.841652  ...        11.484353   \n",
              "\n",
              "   Core CPI  price cpi_adj price_psm cpi_adj  bala lease pct  \\\n",
              "0     61.59   139633.05730       1517.750623            92.9   \n",
              "1     61.59    95794.77188       1168.228925            92.9   \n",
              "2     61.59    76635.81750       1049.805719            92.9   \n",
              "3     61.59    76635.81750       1143.818172            92.9   \n",
              "4     61.59   129891.21610       1603.595261            93.3   \n",
              "\n",
              "   price lease_adj implied  price_psm lease_adj implied  \\\n",
              "0             88869.752422                   965.975570   \n",
              "1             60968.783638                   743.521752   \n",
              "2             48775.026911                   668.151054   \n",
              "3             48775.026911                   727.985476   \n",
              "4             82315.112540                  1016.235957   \n",
              "\n",
              "   price cpi_lease_adj implied  price_psm cpi_lease_adj implied  year_gni  \n",
              "0                144292.502700                      1568.396769     22901  \n",
              "1                 98991.368143                      1207.211806     22901  \n",
              "2                 79193.094510                      1084.836911     22901  \n",
              "3                 79193.094510                      1181.986486     22901  \n",
              "4                133650.125891                      1650.001555     22901  \n",
              "\n",
              "[5 rows x 28 columns]"
            ]
          },
          "execution_count": 36,
          "metadata": {},
          "output_type": "execute_result"
        }
      ],
      "source": [
        "df.head()"
      ]
    },
    {
      "cell_type": "code",
      "execution_count": null,
      "metadata": {
        "id": "lkADEonJ9OlQ",
        "outputId": "1d796c0f-292f-4603-913a-2c852ef23101"
      },
      "outputs": [
        {
          "data": {
            "text/plain": [
              "month                               object\n",
              "year                                 int64\n",
              "town                                object\n",
              "town_dummy                           int64\n",
              "flat_type                           object\n",
              "block                               object\n",
              "street_name                         object\n",
              "address                             object\n",
              "latitude                           float64\n",
              "longitude                          float64\n",
              "storey_range                        object\n",
              "storey                               int64\n",
              "area_sqm                           float64\n",
              "flat_model                          object\n",
              "lease_start                          int64\n",
              "lease_rem                            int64\n",
              "resale_price                       float64\n",
              "price_psm                          float64\n",
              "price_psm_yearly                   float64\n",
              "Core CPI                           float64\n",
              "price cpi_adj                      float64\n",
              "price_psm cpi_adj                  float64\n",
              "bala lease pct                     float64\n",
              "price lease_adj implied            float64\n",
              "price_psm lease_adj implied        float64\n",
              "price cpi_lease_adj implied        float64\n",
              "price_psm cpi_lease_adj implied    float64\n",
              "year_gni                             int64\n",
              "dtype: object"
            ]
          },
          "execution_count": 37,
          "metadata": {},
          "output_type": "execute_result"
        }
      ],
      "source": [
        "df.dtypes"
      ]
    },
    {
      "cell_type": "markdown",
      "metadata": {
        "id": "76Ypcg9i9OlQ"
      },
      "source": [
        "**DATA ANALYSIS**"
      ]
    },
    {
      "cell_type": "markdown",
      "metadata": {
        "id": "SON2iH2b9OlR"
      },
      "source": [
        "Analysing the data we find the features that have minimal role in Price Prediction. We Also one-hot encode the required columns appropriately to integers."
      ]
    },
    {
      "cell_type": "code",
      "execution_count": null,
      "metadata": {
        "id": "S09QlEhE9OlR"
      },
      "outputs": [],
      "source": [
        "ColumnsToDrop = ['month', 'town', 'street_name', 'block', 'address', 'storey_range', 'year_gni']\n",
        "df_modified = df.drop(ColumnsToDrop, axis=1)\n",
        "df_modified = pd.get_dummies(df_modified, columns=['flat_type', 'flat_model'])"
      ]
    },
    {
      "cell_type": "code",
      "execution_count": null,
      "metadata": {
        "id": "9Ud_lwSS9OlR"
      },
      "outputs": [],
      "source": [
        "bool_columns = df_modified.select_dtypes(include=['bool']).columns\n",
        "df_modified[bool_columns] = df_modified[bool_columns].astype(int)"
      ]
    },
    {
      "cell_type": "code",
      "execution_count": null,
      "metadata": {
        "id": "__UDJbaA9OlR",
        "outputId": "f58cf34b-324c-407c-a022-a20c3bde9dff"
      },
      "outputs": [
        {
          "data": {
            "text/html": [
              "<div>\n",
              "<style scoped>\n",
              "    .dataframe tbody tr th:only-of-type {\n",
              "        vertical-align: middle;\n",
              "    }\n",
              "\n",
              "    .dataframe tbody tr th {\n",
              "        vertical-align: top;\n",
              "    }\n",
              "\n",
              "    .dataframe thead th {\n",
              "        text-align: right;\n",
              "    }\n",
              "</style>\n",
              "<table border=\"1\" class=\"dataframe\">\n",
              "  <thead>\n",
              "    <tr style=\"text-align: right;\">\n",
              "      <th></th>\n",
              "      <th>year</th>\n",
              "      <th>town_dummy</th>\n",
              "      <th>latitude</th>\n",
              "      <th>longitude</th>\n",
              "      <th>storey</th>\n",
              "      <th>area_sqm</th>\n",
              "      <th>lease_start</th>\n",
              "      <th>lease_rem</th>\n",
              "      <th>resale_price</th>\n",
              "      <th>price_psm</th>\n",
              "      <th>...</th>\n",
              "      <th>flat_model_Multi Generation</th>\n",
              "      <th>flat_model_New Generation</th>\n",
              "      <th>flat_model_Premium Apartment</th>\n",
              "      <th>flat_model_Premium Apartment Loft</th>\n",
              "      <th>flat_model_Premium Maisonette</th>\n",
              "      <th>flat_model_Simplified</th>\n",
              "      <th>flat_model_Standard</th>\n",
              "      <th>flat_model_Terrace</th>\n",
              "      <th>flat_model_Type S1</th>\n",
              "      <th>flat_model_Type S2</th>\n",
              "    </tr>\n",
              "  </thead>\n",
              "  <tbody>\n",
              "    <tr>\n",
              "      <th>0</th>\n",
              "      <td>1990</td>\n",
              "      <td>2</td>\n",
              "      <td>1.365485</td>\n",
              "      <td>103.844025</td>\n",
              "      <td>11</td>\n",
              "      <td>92.0</td>\n",
              "      <td>1976</td>\n",
              "      <td>85</td>\n",
              "      <td>86000.0</td>\n",
              "      <td>934.782609</td>\n",
              "      <td>...</td>\n",
              "      <td>0</td>\n",
              "      <td>1</td>\n",
              "      <td>0</td>\n",
              "      <td>0</td>\n",
              "      <td>0</td>\n",
              "      <td>0</td>\n",
              "      <td>0</td>\n",
              "      <td>0</td>\n",
              "      <td>0</td>\n",
              "      <td>0</td>\n",
              "    </tr>\n",
              "    <tr>\n",
              "      <th>1</th>\n",
              "      <td>1990</td>\n",
              "      <td>2</td>\n",
              "      <td>1.365485</td>\n",
              "      <td>103.844025</td>\n",
              "      <td>8</td>\n",
              "      <td>82.0</td>\n",
              "      <td>1976</td>\n",
              "      <td>85</td>\n",
              "      <td>59000.0</td>\n",
              "      <td>719.512195</td>\n",
              "      <td>...</td>\n",
              "      <td>0</td>\n",
              "      <td>1</td>\n",
              "      <td>0</td>\n",
              "      <td>0</td>\n",
              "      <td>0</td>\n",
              "      <td>0</td>\n",
              "      <td>0</td>\n",
              "      <td>0</td>\n",
              "      <td>0</td>\n",
              "      <td>0</td>\n",
              "    </tr>\n",
              "    <tr>\n",
              "      <th>2</th>\n",
              "      <td>1990</td>\n",
              "      <td>2</td>\n",
              "      <td>1.366272</td>\n",
              "      <td>103.841465</td>\n",
              "      <td>5</td>\n",
              "      <td>73.0</td>\n",
              "      <td>1976</td>\n",
              "      <td>85</td>\n",
              "      <td>47200.0</td>\n",
              "      <td>646.575343</td>\n",
              "      <td>...</td>\n",
              "      <td>0</td>\n",
              "      <td>1</td>\n",
              "      <td>0</td>\n",
              "      <td>0</td>\n",
              "      <td>0</td>\n",
              "      <td>0</td>\n",
              "      <td>0</td>\n",
              "      <td>0</td>\n",
              "      <td>0</td>\n",
              "      <td>0</td>\n",
              "    </tr>\n",
              "    <tr>\n",
              "      <th>3</th>\n",
              "      <td>1990</td>\n",
              "      <td>2</td>\n",
              "      <td>1.365485</td>\n",
              "      <td>103.844025</td>\n",
              "      <td>11</td>\n",
              "      <td>67.0</td>\n",
              "      <td>1976</td>\n",
              "      <td>85</td>\n",
              "      <td>47200.0</td>\n",
              "      <td>704.477612</td>\n",
              "      <td>...</td>\n",
              "      <td>0</td>\n",
              "      <td>1</td>\n",
              "      <td>0</td>\n",
              "      <td>0</td>\n",
              "      <td>0</td>\n",
              "      <td>0</td>\n",
              "      <td>0</td>\n",
              "      <td>0</td>\n",
              "      <td>0</td>\n",
              "      <td>0</td>\n",
              "    </tr>\n",
              "    <tr>\n",
              "      <th>4</th>\n",
              "      <td>1990</td>\n",
              "      <td>2</td>\n",
              "      <td>1.369226</td>\n",
              "      <td>103.841652</td>\n",
              "      <td>5</td>\n",
              "      <td>81.0</td>\n",
              "      <td>1977</td>\n",
              "      <td>86</td>\n",
              "      <td>80000.0</td>\n",
              "      <td>987.654321</td>\n",
              "      <td>...</td>\n",
              "      <td>0</td>\n",
              "      <td>1</td>\n",
              "      <td>0</td>\n",
              "      <td>0</td>\n",
              "      <td>0</td>\n",
              "      <td>0</td>\n",
              "      <td>0</td>\n",
              "      <td>0</td>\n",
              "      <td>0</td>\n",
              "      <td>0</td>\n",
              "    </tr>\n",
              "  </tbody>\n",
              "</table>\n",
              "<p>5 rows × 48 columns</p>\n",
              "</div>"
            ],
            "text/plain": [
              "   year  town_dummy  latitude   longitude  storey  area_sqm  lease_start  \\\n",
              "0  1990           2  1.365485  103.844025      11      92.0         1976   \n",
              "1  1990           2  1.365485  103.844025       8      82.0         1976   \n",
              "2  1990           2  1.366272  103.841465       5      73.0         1976   \n",
              "3  1990           2  1.365485  103.844025      11      67.0         1976   \n",
              "4  1990           2  1.369226  103.841652       5      81.0         1977   \n",
              "\n",
              "   lease_rem  resale_price   price_psm  ...  flat_model_Multi Generation  \\\n",
              "0         85       86000.0  934.782609  ...                            0   \n",
              "1         85       59000.0  719.512195  ...                            0   \n",
              "2         85       47200.0  646.575343  ...                            0   \n",
              "3         85       47200.0  704.477612  ...                            0   \n",
              "4         86       80000.0  987.654321  ...                            0   \n",
              "\n",
              "   flat_model_New Generation  flat_model_Premium Apartment  \\\n",
              "0                          1                             0   \n",
              "1                          1                             0   \n",
              "2                          1                             0   \n",
              "3                          1                             0   \n",
              "4                          1                             0   \n",
              "\n",
              "   flat_model_Premium Apartment Loft  flat_model_Premium Maisonette  \\\n",
              "0                                  0                              0   \n",
              "1                                  0                              0   \n",
              "2                                  0                              0   \n",
              "3                                  0                              0   \n",
              "4                                  0                              0   \n",
              "\n",
              "   flat_model_Simplified  flat_model_Standard  flat_model_Terrace  \\\n",
              "0                      0                    0                   0   \n",
              "1                      0                    0                   0   \n",
              "2                      0                    0                   0   \n",
              "3                      0                    0                   0   \n",
              "4                      0                    0                   0   \n",
              "\n",
              "   flat_model_Type S1  flat_model_Type S2  \n",
              "0                   0                   0  \n",
              "1                   0                   0  \n",
              "2                   0                   0  \n",
              "3                   0                   0  \n",
              "4                   0                   0  \n",
              "\n",
              "[5 rows x 48 columns]"
            ]
          },
          "execution_count": 40,
          "metadata": {},
          "output_type": "execute_result"
        }
      ],
      "source": [
        "df_modified.head()"
      ]
    },
    {
      "cell_type": "code",
      "execution_count": null,
      "metadata": {
        "id": "voH6S-Jm9OlR",
        "outputId": "a31a5eea-b800-46ac-9f8c-0d5d5d5ce959"
      },
      "outputs": [
        {
          "data": {
            "text/plain": [
              "year                                   int64\n",
              "town_dummy                             int64\n",
              "latitude                             float64\n",
              "longitude                            float64\n",
              "storey                                 int64\n",
              "area_sqm                             float64\n",
              "lease_start                            int64\n",
              "lease_rem                              int64\n",
              "resale_price                         float64\n",
              "price_psm                            float64\n",
              "price_psm_yearly                     float64\n",
              "Core CPI                             float64\n",
              "price cpi_adj                        float64\n",
              "price_psm cpi_adj                    float64\n",
              "bala lease pct                       float64\n",
              "price lease_adj implied              float64\n",
              "price_psm lease_adj implied          float64\n",
              "price cpi_lease_adj implied          float64\n",
              "price_psm cpi_lease_adj implied      float64\n",
              "flat_type_1 ROOM                       int32\n",
              "flat_type_2 ROOM                       int32\n",
              "flat_type_3 ROOM                       int32\n",
              "flat_type_4 ROOM                       int32\n",
              "flat_type_5 ROOM                       int32\n",
              "flat_type_EXECUTIVE                    int32\n",
              "flat_type_MULTI GENERATION             int32\n",
              "flat_model_2-ROOM                      int32\n",
              "flat_model_2-room                      int32\n",
              "flat_model_Adjoined flat               int32\n",
              "flat_model_Apartment                   int32\n",
              "flat_model_DBSS                        int32\n",
              "flat_model_Improved                    int32\n",
              "flat_model_Improved-Maisonette         int32\n",
              "flat_model_MULTI GENERATION            int32\n",
              "flat_model_Maisonette                  int32\n",
              "flat_model_Model A                     int32\n",
              "flat_model_Model A-Maisonette          int32\n",
              "flat_model_Model A2                    int32\n",
              "flat_model_Multi Generation            int32\n",
              "flat_model_New Generation              int32\n",
              "flat_model_Premium Apartment           int32\n",
              "flat_model_Premium Apartment Loft      int32\n",
              "flat_model_Premium Maisonette          int32\n",
              "flat_model_Simplified                  int32\n",
              "flat_model_Standard                    int32\n",
              "flat_model_Terrace                     int32\n",
              "flat_model_Type S1                     int32\n",
              "flat_model_Type S2                     int32\n",
              "dtype: object"
            ]
          },
          "execution_count": 41,
          "metadata": {},
          "output_type": "execute_result"
        }
      ],
      "source": [
        "df_modified.dtypes"
      ]
    },
    {
      "cell_type": "code",
      "execution_count": null,
      "metadata": {
        "id": "m1-dQ3zz9OlS"
      },
      "outputs": [],
      "source": [
        "Y = np.array(df_modified['resale_price']).reshape(m, 1)\n",
        "X = df_modified.drop(['resale_price'], axis=1)"
      ]
    },
    {
      "cell_type": "code",
      "execution_count": null,
      "metadata": {
        "id": "BesYB_go9OlS"
      },
      "outputs": [],
      "source": [
        "from sklearn.preprocessing import MinMaxScaler\n",
        "scaler = MinMaxScaler()\n",
        "X = np.array(scaler.fit_transform(X))"
      ]
    },
    {
      "cell_type": "code",
      "execution_count": null,
      "metadata": {
        "id": "Quy15QAH9OlS"
      },
      "outputs": [],
      "source": [
        "m = X.shape[0]\n",
        "X_train = X[0 : 2*m // 3, :]\n",
        "Y_train = Y[0 : 2*m // 3]\n",
        "X_test = X[2*m // 3 : m, :]\n",
        "Y_test = Y[2*m // 3 : m]"
      ]
    },
    {
      "cell_type": "code",
      "execution_count": null,
      "metadata": {
        "id": "rw9D6mUN9OlS",
        "outputId": "116c2ab6-65d7-428f-d6a4-864f51a8e6e9"
      },
      "outputs": [
        {
          "data": {
            "text/plain": [
              "(560612, 47)"
            ]
          },
          "execution_count": 45,
          "metadata": {},
          "output_type": "execute_result"
        }
      ],
      "source": [
        "X_train.shape"
      ]
    },
    {
      "cell_type": "code",
      "execution_count": null,
      "metadata": {
        "id": "cE1aZlvH9OlS"
      },
      "outputs": [],
      "source": [
        "def dW(X, Y, W, b, model, Lambda):\n",
        "    m = X.shape[0]\n",
        "    if model == 'Ridge':\n",
        "        errors = np.dot(X, W) + b - Y\n",
        "        derivative_w = np.dot(X.T, errors) / m + 2*Lambda*W\n",
        "        return derivative_w\n",
        "    elif model == 'Lasso':\n",
        "        errors = np.dot(X, W) + b - Y\n",
        "        derivative_w = np.dot(X.T, errors) / m + np.sign(W)\n",
        "        return derivative_w\n",
        "    else:\n",
        "        errors = np.dot(X, W) + b - Y\n",
        "        derivative_w = np.dot(X.T, errors) / m\n",
        "        return derivative_w\n",
        "\n",
        "\n",
        "def db(X, Y, W, b):\n",
        "    m = X.shape[0]\n",
        "    errors = np.dot(X, W) + b - Y\n",
        "    derivative_b = np.sum(errors) / m\n",
        "    return derivative_b\n",
        "\n",
        "\n",
        "def GradientDescent(X, Y, W, b, learningRate, epochs, model, Lambda):\n",
        "    for i in range(epochs):\n",
        "        W_temp, b_temp = W, b\n",
        "        W = W - learningRate * dW(X, Y, W_temp, b_temp, model, Lambda)\n",
        "        b = b - learningRate * db(X, Y, W_temp, b_temp)\n",
        "    return W, b\n"
      ]
    },
    {
      "cell_type": "code",
      "execution_count": null,
      "metadata": {
        "id": "4HmMD2hm9OlS"
      },
      "outputs": [],
      "source": [
        "m = X_train.shape[0]\n",
        "n = X_train.shape[1]\n",
        "W = np.random.randn(n).reshape(n, 1)\n",
        "b = 0\n",
        "W, b = GradientDescent(X_train, Y_train, W, b, 0.1, 1000, 'Simple L2 Loss', 0)"
      ]
    },
    {
      "cell_type": "code",
      "execution_count": null,
      "metadata": {
        "id": "fdHpv79R9OlS"
      },
      "outputs": [],
      "source": [
        "Y_predicted = np.dot(X_test, W)+b"
      ]
    },
    {
      "cell_type": "code",
      "execution_count": null,
      "metadata": {
        "id": "3kazW0sN9OlS",
        "outputId": "cfeec7c1-a60e-498a-e397-ef0421608f99"
      },
      "outputs": [
        {
          "data": {
            "text/plain": [
              "[<matplotlib.lines.Line2D at 0x22317cb7200>]"
            ]
          },
          "execution_count": 88,
          "metadata": {},
          "output_type": "execute_result"
        },
        {
          "data": {
            "image/png": "[encoded data removed]",
            "text/plain": [
              "<Figure size 640x480 with 1 Axes>"
            ]
          },
          "metadata": {},
          "output_type": "display_data"
        }
      ],
      "source": [
        "plt.scatter(Y_test, Y_predicted, color = 'red', edgecolors='black')\n",
        "Ideal_lineX = np.linspace(0, 1200000, 1200000)\n",
        "plt.plot(Ideal_lineX, Ideal_lineX, color='blue', linewidth = 5)"
      ]
    },
    {
      "cell_type": "code",
      "execution_count": null,
      "metadata": {
        "id": "veUrMIvU9OlS",
        "outputId": "b9565df4-b094-4168-af5a-a13170205df1"
      },
      "outputs": [
        {
          "data": {
            "text/plain": [
              "0.8646699157799346"
            ]
          },
          "execution_count": 89,
          "metadata": {},
          "output_type": "execute_result"
        }
      ],
      "source": [
        "RSS = np.sum((Y_test-Y_predicted)**2)\n",
        "mean_Y = np.mean(Y_predicted)\n",
        "TSS = np.sum((Y_test-mean_Y)**2)\n",
        "R = 1-RSS/TSS\n",
        "R"
      ]
    },
    {
      "cell_type": "markdown",
      "metadata": {
        "id": "xnlCoHNx9OlS"
      },
      "source": [
        "**RIDGE REGRESSION**"
      ]
    },
    {
      "cell_type": "code",
      "execution_count": null,
      "metadata": {
        "id": "UVjBxq9x9OlT"
      },
      "outputs": [],
      "source": [
        "m = X_train.shape[0]\n",
        "n = X_train.shape[1]\n",
        "W_Ridge = np.random.randn(n).reshape(n, 1)\n",
        "b_Ridge = 0\n",
        "W_Ridge, b_Ridge = GradientDescent(X_train, Y_train, W, b, 0.1, 1000, 'Ridge', 0.001)"
      ]
    },
    {
      "cell_type": "code",
      "execution_count": null,
      "metadata": {
        "id": "zkVylRoZ9OlT"
      },
      "outputs": [],
      "source": [
        "Y_predicted_Ridge = np.dot(X_test, W_Ridge)+b_Ridge"
      ]
    },
    {
      "cell_type": "code",
      "execution_count": null,
      "metadata": {
        "id": "2_PtSL-y9OlT",
        "outputId": "b10b6753-bc67-4a9c-fc36-113a9c282dbc"
      },
      "outputs": [
        {
          "data": {
            "text/plain": [
              "[<matplotlib.lines.Line2D at 0x22325a997c0>]"
            ]
          },
          "execution_count": 100,
          "metadata": {},
          "output_type": "execute_result"
        },
        {
          "data": {
            "image/png": "[encoded data removed]",
            "text/plain": [
              "<Figure size 640x480 with 1 Axes>"
            ]
          },
          "metadata": {},
          "output_type": "display_data"
        }
      ],
      "source": [
        "plt.scatter(Y_test, Y_predicted_Ridge, color = 'red', edgecolors='black')\n",
        "Ideal_lineX = np.linspace(0, 1200000, 1200000)\n",
        "plt.plot(Ideal_lineX, Ideal_lineX, color='blue', linewidth = 5)"
      ]
    },
    {
      "cell_type": "code",
      "execution_count": null,
      "metadata": {
        "id": "KK5ZXuos9OlT",
        "outputId": "0176bf43-9ad5-4fff-f113-883fd2092163"
      },
      "outputs": [
        {
          "data": {
            "text/plain": [
              "0.8562107104877734"
            ]
          },
          "execution_count": 101,
          "metadata": {},
          "output_type": "execute_result"
        }
      ],
      "source": [
        "RSS = np.sum((Y_test-Y_predicted_Ridge)**2)\n",
        "mean_Y = np.mean(Y_predicted_Ridge)\n",
        "TSS = np.sum((Y_test-mean_Y)**2)\n",
        "R = 1-RSS/TSS\n",
        "R"
      ]
    },
    {
      "cell_type": "markdown",
      "metadata": {
        "id": "AByY5A719OlT"
      },
      "source": [
        "**LASS0 REGRESSION**"
      ]
    },
    {
      "cell_type": "code",
      "execution_count": null,
      "metadata": {
        "id": "8YmWSi7_9OlT"
      },
      "outputs": [],
      "source": [
        "m = X_train.shape[0]\n",
        "n = X_train.shape[1]\n",
        "W_Lasso = np.random.randn(n).reshape(n, 1)\n",
        "b_Lasso = 0\n",
        "W_Lasso, b_Lasso = GradientDescent(X_train, Y_train, W, b, 0.1, 1000, 'Lasso', 0.2)"
      ]
    },
    {
      "cell_type": "code",
      "execution_count": null,
      "metadata": {
        "id": "dnnX93Qn9OlT"
      },
      "outputs": [],
      "source": [
        "Y_predicted_Lasso = np.dot(X_test, W_Lasso)+b_Lasso"
      ]
    },
    {
      "cell_type": "code",
      "execution_count": null,
      "metadata": {
        "id": "IA3T2WHs9OlT",
        "outputId": "b43eb18e-2be0-4209-82d0-6774ef3f65c0"
      },
      "outputs": [
        {
          "data": {
            "text/plain": [
              "[<matplotlib.lines.Line2D at 0x223209977a0>]"
            ]
          },
          "execution_count": 80,
          "metadata": {},
          "output_type": "execute_result"
        },
        {
          "data": {
            "image/png": "[encoded data removed]",
            "text/plain": [
              "<Figure size 640x480 with 1 Axes>"
            ]
          },
          "metadata": {},
          "output_type": "display_data"
        }
      ],
      "source": [
        "plt.scatter(Y_test, Y_predicted_Lasso, color = 'red', edgecolors='black')\n",
        "Ideal_lineX = np.linspace(0, 1200000, 1200000)\n",
        "plt.plot(Ideal_lineX, Ideal_lineX, color='blue', linewidth = 5)"
      ]
    },
    {
      "cell_type": "code",
      "execution_count": null,
      "metadata": {
        "id": "G--BZPxJ9OlT",
        "outputId": "51788cdf-e026-4bec-b063-285824e6fd56"
      },
      "outputs": [
        {
          "data": {
            "text/plain": [
              "0.8735737873843707"
            ]
          },
          "execution_count": 72,
          "metadata": {},
          "output_type": "execute_result"
        }
      ],
      "source": [
        "RSS = np.sum((Y_test-Y_predicted_Lasso)**2)\n",
        "mean_Y = np.mean(Y_predicted_Lasso)\n",
        "TSS = np.sum((Y_test-mean_Y)**2)\n",
        "R = 1-RSS/TSS\n",
        "R"
      ]
    }
  ],
  "metadata": {
    "kernelspec": {
      "display_name": "Python 3",
      "language": "python",
      "name": "python3"
    },
    "language_info": {
      "codemirror_mode": {
        "name": "ipython",
        "version": 3
      },
      "file_extension": ".py",
      "mimetype": "text/x-python",
      "name": "python",
      "nbconvert_exporter": "python",
      "pygments_lexer": "ipython3",
      "version": "3.12.0"
    },
    "colab": {
      "provenance": []
    }
  },
  "nbformat": 4,
  "nbformat_minor": 0
}