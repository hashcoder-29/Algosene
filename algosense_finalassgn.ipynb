{
  "nbformat": 4,
  "nbformat_minor": 0,
  "metadata": {
    "colab": {
      "provenance": []
    },
    "kernelspec": {
      "name": "python3",
      "display_name": "Python 3"
    },
    "language_info": {
      "name": "python"
    }
  },
  "cells": [
    {
      "cell_type": "code",
      "execution_count": null,
      "metadata": {
        "colab": {
          "base_uri": "https://localhost:8080/"
        },
        "collapsed": true,
        "id": "9-i48eHZbv6G",
        "outputId": "17e1b7a7-141b-49d5-e3f9-f251803a213e"
      },
      "outputs": [
        {
          "output_type": "stream",
          "name": "stdout",
          "text": [
            "Requirement already satisfied: torch in /usr/local/lib/python3.10/dist-packages (2.3.0+cu121)\n",
            "Requirement already satisfied: filelock in /usr/local/lib/python3.10/dist-packages (from torch) (3.15.4)\n",
            "Requirement already satisfied: typing-extensions>=4.8.0 in /usr/local/lib/python3.10/dist-packages (from torch) (4.12.2)\n",
            "Requirement already satisfied: sympy in /usr/local/lib/python3.10/dist-packages (from torch) (1.12.1)\n",
            "Requirement already satisfied: networkx in /usr/local/lib/python3.10/dist-packages (from torch) (3.3)\n",
            "Requirement already satisfied: jinja2 in /usr/local/lib/python3.10/dist-packages (from torch) (3.1.4)\n",
            "Requirement already satisfied: fsspec in /usr/local/lib/python3.10/dist-packages (from torch) (2023.6.0)\n",
            "Collecting nvidia-cuda-nvrtc-cu12==12.1.105 (from torch)\n",
            "  Using cached nvidia_cuda_nvrtc_cu12-12.1.105-py3-none-manylinux1_x86_64.whl (23.7 MB)\n",
            "Collecting nvidia-cuda-runtime-cu12==12.1.105 (from torch)\n",
            "  Using cached nvidia_cuda_runtime_cu12-12.1.105-py3-none-manylinux1_x86_64.whl (823 kB)\n",
            "Collecting nvidia-cuda-cupti-cu12==12.1.105 (from torch)\n",
            "  Using cached nvidia_cuda_cupti_cu12-12.1.105-py3-none-manylinux1_x86_64.whl (14.1 MB)\n",
            "Collecting nvidia-cudnn-cu12==8.9.2.26 (from torch)\n",
            "  Using cached nvidia_cudnn_cu12-8.9.2.26-py3-none-manylinux1_x86_64.whl (731.7 MB)\n",
            "Collecting nvidia-cublas-cu12==12.1.3.1 (from torch)\n",
            "  Using cached nvidia_cublas_cu12-12.1.3.1-py3-none-manylinux1_x86_64.whl (410.6 MB)\n",
            "Collecting nvidia-cufft-cu12==11.0.2.54 (from torch)\n",
            "  Using cached nvidia_cufft_cu12-11.0.2.54-py3-none-manylinux1_x86_64.whl (121.6 MB)\n",
            "Collecting nvidia-curand-cu12==10.3.2.106 (from torch)\n",
            "  Using cached nvidia_curand_cu12-10.3.2.106-py3-none-manylinux1_x86_64.whl (56.5 MB)\n",
            "Collecting nvidia-cusolver-cu12==11.4.5.107 (from torch)\n",
            "  Using cached nvidia_cusolver_cu12-11.4.5.107-py3-none-manylinux1_x86_64.whl (124.2 MB)\n",
            "Collecting nvidia-cusparse-cu12==12.1.0.106 (from torch)\n",
            "  Using cached nvidia_cusparse_cu12-12.1.0.106-py3-none-manylinux1_x86_64.whl (196.0 MB)\n",
            "Collecting nvidia-nccl-cu12==2.20.5 (from torch)\n",
            "  Using cached nvidia_nccl_cu12-2.20.5-py3-none-manylinux2014_x86_64.whl (176.2 MB)\n",
            "Collecting nvidia-nvtx-cu12==12.1.105 (from torch)\n",
            "  Using cached nvidia_nvtx_cu12-12.1.105-py3-none-manylinux1_x86_64.whl (99 kB)\n",
            "Requirement already satisfied: triton==2.3.0 in /usr/local/lib/python3.10/dist-packages (from torch) (2.3.0)\n",
            "Collecting nvidia-nvjitlink-cu12 (from nvidia-cusolver-cu12==11.4.5.107->torch)\n",
            "  Downloading nvidia_nvjitlink_cu12-12.5.82-py3-none-manylinux2014_x86_64.whl (21.3 MB)\n",
            "\u001b[2K     \u001b[90m━━━━━━━━━━━━━━━━━━━━━━━━━━━━━━━━━━━━━━━━\u001b[0m \u001b[32m21.3/21.3 MB\u001b[0m \u001b[31m13.0 MB/s\u001b[0m eta \u001b[36m0:00:00\u001b[0m\n",
            "\u001b[?25hRequirement already satisfied: MarkupSafe>=2.0 in /usr/local/lib/python3.10/dist-packages (from jinja2->torch) (2.1.5)\n",
            "Requirement already satisfied: mpmath<1.4.0,>=1.1.0 in /usr/local/lib/python3.10/dist-packages (from sympy->torch) (1.3.0)\n",
            "Installing collected packages: nvidia-nvtx-cu12, nvidia-nvjitlink-cu12, nvidia-nccl-cu12, nvidia-curand-cu12, nvidia-cufft-cu12, nvidia-cuda-runtime-cu12, nvidia-cuda-nvrtc-cu12, nvidia-cuda-cupti-cu12, nvidia-cublas-cu12, nvidia-cusparse-cu12, nvidia-cudnn-cu12, nvidia-cusolver-cu12\n",
            "Successfully installed nvidia-cublas-cu12-12.1.3.1 nvidia-cuda-cupti-cu12-12.1.105 nvidia-cuda-nvrtc-cu12-12.1.105 nvidia-cuda-runtime-cu12-12.1.105 nvidia-cudnn-cu12-8.9.2.26 nvidia-cufft-cu12-11.0.2.54 nvidia-curand-cu12-10.3.2.106 nvidia-cusolver-cu12-11.4.5.107 nvidia-cusparse-cu12-12.1.0.106 nvidia-nccl-cu12-2.20.5 nvidia-nvjitlink-cu12-12.5.82 nvidia-nvtx-cu12-12.1.105\n"
          ]
        }
      ],
      "source": [
        "pip install torch"
      ]
    },
    {
      "cell_type": "code",
      "source": [
        "import torch\n",
        "import torch.nn as nn\n",
        "import torch.optim as optim"
      ],
      "metadata": {
        "id": "HcsdwETnexzn"
      },
      "execution_count": null,
      "outputs": []
    },
    {
      "cell_type": "code",
      "source": [
        "import numpy as np\n",
        "import random\n",
        "import math"
      ],
      "metadata": {
        "id": "CPDBtU7KegMC"
      },
      "execution_count": null,
      "outputs": []
    },
    {
      "cell_type": "markdown",
      "source": [
        "## LSTM"
      ],
      "metadata": {
        "id": "oEVC9DHkc6-q"
      }
    },
    {
      "cell_type": "code",
      "source": [
        "class LSTMModel(nn.Module):\n",
        "    def __init__(self, input_size, hidden_size, num_layers, output_size):\n",
        "        super(LSTMModel, self).__init__()\n",
        "        self.hidden_size = hidden_size\n",
        "        self.num_layers = num_layers\n",
        "        self.lstm = nn.LSTM(input_size, hidden_size, num_layers, batch_first=True)\n",
        "        self.fc = nn.Linear(hidden_size, output_size)\n",
        "\n",
        "    def forward(self, x):\n",
        "        # Set initial hidden and cell states\n",
        "        h0 = torch.zeros(self.num_layers, x.size(0), self.hidden_size).to(x.device)\n",
        "        c0 = torch.zeros(self.num_layers, x.size(0), self.hidden_size).to(x.device)\n",
        "\n",
        "        # Forward propagate LSTM\n",
        "        out, _ = self.lstm(x, (h0, c0))\n",
        "\n",
        "        # Decode the hidden state of the last time step\n",
        "        out = self.fc(out[:, -1, :])\n",
        "        return out\n",
        "\n"
      ],
      "metadata": {
        "id": "hMaNJbnib_jT"
      },
      "execution_count": null,
      "outputs": []
    },
    {
      "cell_type": "code",
      "source": [
        "# Hyperparameters\n",
        "input_size = 10   # number of features\n",
        "hidden_size = 50\n",
        "num_layers = 2    # number of stacked LSTM layers\n",
        "output_size = 1   # number of output features\n",
        "num_epochs = 100\n",
        "learning_rate = 0.001\n",
        "\n",
        "# Generate dummy data\n",
        "# Here we use a random tensor of shape (batch_size, sequence_length, input_size)\n",
        "batch_size = 32\n",
        "sequence_length = 15\n",
        "x_train = torch.randn(batch_size, sequence_length, input_size)\n",
        "y_train = torch.randn(batch_size, output_size)\n",
        "\n",
        "# Initialize the model, loss function, and optimizer\n",
        "model = LSTMModel(input_size, hidden_size, num_layers, output_size)\n",
        "criterion = nn.MSELoss()\n",
        "optimizer = optim.Adam(model.parameters(), lr=learning_rate)\n",
        "\n",
        "# Training loop\n",
        "for epoch in range(num_epochs):\n",
        "    model.train()  # Set model to training mode\n",
        "\n",
        "    # Forward pass\n",
        "    outputs = model(x_train)\n",
        "    loss = criterion(outputs, y_train)\n",
        "\n",
        "    # Backward pass and optimization\n",
        "    optimizer.zero_grad()\n",
        "    loss.backward()\n",
        "    optimizer.step()\n",
        "\n",
        "    if (epoch+1) % 10 == 0:\n",
        "        print(f'Epoch [{epoch+1}/{num_epochs}], Loss: {loss.item():.4f}')\n",
        "\n",
        "print(\"Training finished.\")\n"
      ],
      "metadata": {
        "colab": {
          "base_uri": "https://localhost:8080/"
        },
        "id": "xOnqPafNcMtN",
        "outputId": "1de3ecd0-0c90-43f1-cd95-837856749166"
      },
      "execution_count": null,
      "outputs": [
        {
          "output_type": "stream",
          "name": "stdout",
          "text": [
            "Epoch [10/100], Loss: 1.1983\n",
            "Epoch [20/100], Loss: 1.0617\n",
            "Epoch [30/100], Loss: 0.7005\n",
            "Epoch [40/100], Loss: 0.4617\n",
            "Epoch [50/100], Loss: 0.3072\n",
            "Epoch [60/100], Loss: 0.2030\n",
            "Epoch [70/100], Loss: 0.1107\n",
            "Epoch [80/100], Loss: 0.0565\n",
            "Epoch [90/100], Loss: 0.0227\n",
            "Epoch [100/100], Loss: 0.0068\n",
            "Training finished.\n"
          ]
        }
      ]
    },
    {
      "cell_type": "markdown",
      "source": [
        "## Encoder"
      ],
      "metadata": {
        "id": "svvPN9-Yc9NZ"
      }
    },
    {
      "cell_type": "code",
      "source": [
        "class EncoderPredictor(nn.Module):\n",
        "    def __init__(self, input_size, hidden_size, num_layers, output_size):\n",
        "        super(EncoderPredictor, self).__init__()\n",
        "        self.hidden_size = hidden_size\n",
        "        self.num_layers = num_layers\n",
        "        self.lstm = nn.LSTM(input_size, hidden_size, num_layers, batch_first=True)\n",
        "        self.fc = nn.Linear(hidden_size, output_size)\n",
        "\n",
        "    def forward(self, x):\n",
        "        h0 = torch.zeros(self.num_layers, x.size(0), self.hidden_size).to(x.device)\n",
        "        c0 = torch.zeros(self.num_layers, x.size(0), self.hidden_size).to(x.device)\n",
        "        out, (hn, cn) = self.lstm(x, (h0, c0))\n",
        "        out = self.fc(hn[-1])\n",
        "        return out\n"
      ],
      "metadata": {
        "id": "XWebndQYe1HX"
      },
      "execution_count": null,
      "outputs": []
    },
    {
      "cell_type": "code",
      "source": [
        "# Hyperparameters\n",
        "input_size = 10   # Number of features\n",
        "hidden_size = 50\n",
        "num_layers = 2\n",
        "output_size = 1   # Number of output features (for regression)\n",
        "num_epochs = 100\n",
        "learning_rate = 0.001\n",
        "\n",
        "# Generate dummy data\n",
        "batch_size = 32\n",
        "sequence_length = 15\n",
        "x_train = torch.randn(batch_size, sequence_length, input_size)\n",
        "y_train = torch.randn(batch_size, output_size)\n",
        "\n",
        "# Initialize the model, loss function, and optimizer\n",
        "model = EncoderPredictor(input_size, hidden_size, num_layers, output_size)\n",
        "criterion = nn.MSELoss()\n",
        "optimizer = optim.Adam(model.parameters(), lr=learning_rate)\n",
        "\n",
        "# Training loop\n",
        "for epoch in range(num_epochs):\n",
        "    model.train()  # Set model to training mode\n",
        "\n",
        "    # Forward pass\n",
        "    outputs = model(x_train)\n",
        "    loss = criterion(outputs, y_train)\n",
        "\n",
        "    # Backward pass and optimization\n",
        "    optimizer.zero_grad()\n",
        "    loss.backward()\n",
        "    optimizer.step()\n",
        "\n",
        "    if (epoch+1) % 10 == 0:\n",
        "        print(f'Epoch [{epoch+1}/{num_epochs}], Loss: {loss.item():.4f}')\n",
        "\n",
        "print(\"Training finished.\")\n",
        "\n",
        "# Evaluation\n",
        "model.eval()  # Set model to evaluation mode\n",
        "with torch.no_grad():\n",
        "    predictions = model(x_train)\n",
        "    mse = criterion(predictions, y_train)\n",
        "    rmse = torch.sqrt(mse)\n",
        "    print(f'RMSE: {rmse.item():.4f}')\n"
      ],
      "metadata": {
        "colab": {
          "base_uri": "https://localhost:8080/"
        },
        "id": "pQ25tSMGer3L",
        "outputId": "5099d296-be6a-46f3-fbf8-e50f1a8eb9b5"
      },
      "execution_count": null,
      "outputs": [
        {
          "output_type": "stream",
          "name": "stdout",
          "text": [
            "Epoch [10/100], Loss: 0.8159\n",
            "Epoch [20/100], Loss: 0.7734\n",
            "Epoch [30/100], Loss: 0.6840\n",
            "Epoch [40/100], Loss: 0.5553\n",
            "Epoch [50/100], Loss: 0.3609\n",
            "Epoch [60/100], Loss: 0.2358\n",
            "Epoch [70/100], Loss: 0.1342\n",
            "Epoch [80/100], Loss: 0.0505\n",
            "Epoch [90/100], Loss: 0.0139\n",
            "Epoch [100/100], Loss: 0.0042\n",
            "Training finished.\n",
            "RMSE: 0.0618\n"
          ]
        }
      ]
    },
    {
      "cell_type": "markdown",
      "source": [
        "## Decoder"
      ],
      "metadata": {
        "id": "dhAdRUCOdSel"
      }
    },
    {
      "cell_type": "code",
      "source": [
        "class DecoderPredictor(nn.Module):\n",
        "    def __init__(self, input_size, hidden_size, num_layers, output_size):\n",
        "        super(DecoderPredictor, self).__init__()\n",
        "        self.hidden_size = hidden_size\n",
        "        self.num_layers = num_layers\n",
        "        self.lstm = nn.LSTM(input_size, hidden_size, num_layers, batch_first=True)\n",
        "        self.fc = nn.Linear(hidden_size, output_size)\n",
        "\n",
        "    def forward(self, x, hidden):\n",
        "        out, (hn, cn) = self.lstm(x, hidden)\n",
        "        out = self.fc(out[:, -1, :])\n",
        "        return out"
      ],
      "metadata": {
        "id": "LypOfbHFfNAy"
      },
      "execution_count": null,
      "outputs": []
    },
    {
      "cell_type": "code",
      "source": [
        "# Hyperparameters\n",
        "input_size = 10   # Number of features\n",
        "hidden_size = 50  # Number of features in the hidden state\n",
        "num_layers = 2    # Number of stacked LSTM layers\n",
        "output_size = 1   # Number of output features (for regression)\n",
        "num_epochs = 100  # Number of training epochs\n",
        "learning_rate = 0.001  # Learning rate\n",
        "\n",
        "# Generate dummy data\n",
        "batch_size = 32\n",
        "sequence_length = 15\n",
        "x_train = torch.randn(batch_size, sequence_length, input_size)\n",
        "y_train = torch.randn(batch_size, output_size)\n",
        "\n",
        "# Initialize the model, loss function, and optimizer\n",
        "decoder = DecoderPredictor(input_size, hidden_size, num_layers, output_size)\n",
        "criterion = nn.MSELoss()\n",
        "optimizer = optim.Adam(decoder.parameters(), lr=learning_rate)\n",
        "\n",
        "# Initialize hidden state and cell state\n",
        "h0 = torch.zeros(num_layers, batch_size, hidden_size)\n",
        "c0 = torch.zeros(num_layers, batch_size, hidden_size)\n",
        "\n",
        "# Training loop\n",
        "for epoch in range(num_epochs):\n",
        "    decoder.train()  # Set model to training mode\n",
        "\n",
        "    # Forward pass\n",
        "    outputs = decoder(x_train, (h0, c0))\n",
        "    loss = criterion(outputs, y_train)\n",
        "\n",
        "    # Backward pass and optimization\n",
        "    optimizer.zero_grad()\n",
        "    loss.backward()\n",
        "    optimizer.step()\n",
        "\n",
        "    if (epoch+1) % 10 == 0:\n",
        "        print(f'Epoch [{epoch+1}/{num_epochs}], Loss: {loss.item():.4f}')\n",
        "\n",
        "print(\"Training finished.\")\n",
        "\n",
        "# Evaluation\n",
        "decoder.eval()  # Set model to evaluation mode\n",
        "with torch.no_grad():\n",
        "    predictions = decoder(x_train, (h0, c0))\n",
        "    mse = criterion(predictions, y_train)\n",
        "    rmse = torch.sqrt(mse)\n",
        "    print(f'RMSE: {rmse.item():.4f}')\n"
      ],
      "metadata": {
        "colab": {
          "base_uri": "https://localhost:8080/"
        },
        "id": "tV4r_jiYfH9H",
        "outputId": "7198c6c1-db65-4bc6-b838-39fe0d60467a"
      },
      "execution_count": null,
      "outputs": [
        {
          "output_type": "stream",
          "name": "stdout",
          "text": [
            "Epoch [10/100], Loss: 0.7202\n",
            "Epoch [20/100], Loss: 0.6732\n",
            "Epoch [30/100], Loss: 0.5511\n",
            "Epoch [40/100], Loss: 0.2877\n",
            "Epoch [50/100], Loss: 0.1333\n",
            "Epoch [60/100], Loss: 0.0543\n",
            "Epoch [70/100], Loss: 0.0204\n",
            "Epoch [80/100], Loss: 0.0056\n",
            "Epoch [90/100], Loss: 0.0014\n",
            "Epoch [100/100], Loss: 0.0006\n",
            "Training finished.\n",
            "RMSE: 0.0247\n"
          ]
        }
      ]
    },
    {
      "cell_type": "markdown",
      "source": [
        "## Transformer"
      ],
      "metadata": {
        "id": "CIHJbFMkdcr8"
      }
    },
    {
      "cell_type": "code",
      "source": [
        "class PositionalEncoding(nn.Module):\n",
        "    def __init__(self, d_model, max_len=5000):\n",
        "        super(PositionalEncoding, self).__init__()\n",
        "        pe = torch.zeros(max_len, d_model)\n",
        "        position = torch.arange(0, max_len, dtype=torch.float).unsqueeze(1)\n",
        "        div_term = torch.exp(torch.arange(0, d_model, 2).float() * (-math.log(10000.0) / d_model))\n",
        "        pe[:, 0::2] = torch.sin(position * div_term)\n",
        "        pe[:, 1::2] = torch.cos(position * div_term)\n",
        "        pe = pe.unsqueeze(0).transpose(0, 1)\n",
        "        self.register_buffer('pe', pe)\n",
        "\n",
        "    def forward(self, x):\n",
        "        x = x + self.pe[:x.size(0), :]\n",
        "        return x\n",
        "\n",
        "class TransformerModel(nn.Module):\n",
        "    def __init__(self, input_size, hidden_size, num_layers, output_size, nhead=8):\n",
        "        super(TransformerModel, self).__init__()\n",
        "        self.model_type = 'Transformer'\n",
        "        self.pos_encoder = PositionalEncoding(hidden_size)\n",
        "        self.encoder = nn.Linear(input_size, hidden_size)\n",
        "        self.transformer = nn.Transformer(hidden_size, nhead, num_layers, num_layers, dropout=0.1)\n",
        "        self.decoder = nn.Linear(hidden_size, output_size)\n",
        "        self.hidden_size = hidden_size\n",
        "\n",
        "    def forward(self, src, tgt):\n",
        "        src = self.encoder(src) * math.sqrt(self.hidden_size)\n",
        "        tgt = self.encoder(tgt) * math.sqrt(self.hidden_size)\n",
        "        src = self.pos_encoder(src)\n",
        "        tgt = self.pos_encoder(tgt)\n",
        "        output = self.transformer(src, tgt)\n",
        "        output = self.decoder(output)\n",
        "        return output"
      ],
      "metadata": {
        "id": "raPq7b7Dg8V0"
      },
      "execution_count": null,
      "outputs": []
    },
    {
      "cell_type": "code",
      "source": [
        "# Hyperparameters\n",
        "input_size = 5\n",
        "hidden_size = 512\n",
        "num_layers = 6\n",
        "output_size = 5\n",
        "num_epochs = 10\n",
        "learning_rate = 0.005\n",
        "\n",
        "# Generate dummy data\n",
        "batch_size = 32\n",
        "sequence_length = 15\n",
        "x_train = torch.randn(sequence_length, batch_size, input_size)\n",
        "y_train = torch.randn(sequence_length, batch_size, output_size)\n",
        "\n",
        "# Initialize the model, loss function, and optimizer\n",
        "model = TransformerModel(input_size, hidden_size, num_layers, output_size)\n",
        "criterion = nn.MSELoss()\n",
        "optimizer = optim.Adam(model.parameters(), lr=learning_rate)\n",
        "\n",
        "# Training loop\n",
        "for epoch in range(num_epochs):\n",
        "    model.train()  # Set model to training mode\n",
        "\n",
        "    # Forward pass\n",
        "    outputs = model(x_train, y_train)\n",
        "    loss = criterion(outputs, y_train)\n",
        "\n",
        "    # Backward pass and optimization\n",
        "    optimizer.zero_grad()\n",
        "    loss.backward()\n",
        "    optimizer.step()\n",
        "\n",
        "    if (epoch+1) % 2 == 0:\n",
        "        print(f'Epoch [{epoch+1}/{num_epochs}], Loss: {loss.item():.4f}')\n",
        "\n",
        "print(\"Training finished.\")\n",
        "\n",
        "# Evaluation\n",
        "model.eval()  # Set model to evaluation mode\n",
        "with torch.no_grad():\n",
        "    predictions = model(x_train, y_train)\n",
        "    mse = criterion(predictions, y_train)\n",
        "    rmse = torch.sqrt(mse)\n",
        "    print(f'RMSE: {rmse.item():.4f}')\n"
      ],
      "metadata": {
        "colab": {
          "base_uri": "https://localhost:8080/"
        },
        "id": "wwVmqolWgT6Y",
        "outputId": "12fcafdc-bcf7-4fed-a579-3add829f3cfb"
      },
      "execution_count": null,
      "outputs": [
        {
          "output_type": "stream",
          "name": "stdout",
          "text": [
            "Epoch [2/10], Loss: 23.9361\n",
            "Epoch [4/10], Loss: 1.7833\n",
            "Epoch [6/10], Loss: 2.4093\n",
            "Epoch [8/10], Loss: 1.5820\n"
          ]
        }
      ]
    }
  ]
}